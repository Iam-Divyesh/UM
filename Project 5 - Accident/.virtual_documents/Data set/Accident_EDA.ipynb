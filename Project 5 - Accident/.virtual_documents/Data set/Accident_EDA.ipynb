


import pandas as pd
import numpy as np 
import matplotlib.pyplot as plt
import seaborn as sns

plt.style.use('default')
plt.rcParams['figure.figsize'] = (12,6)
plt.rcParams['font.size'] = 8
sns.set_palette('husl')


df = pd.read_csv('./Data set/india_accidents.csv')
df.head()


# Fatality Ratio and Injury Ratio
df['Fatality_Rate'] = (df['Total_Deaths'] / df['Total_Accidents'] *100).round(2)
df['Injury_Rate'] = (df['Total_Injuries'] / df['Total_Accidents'] *100).round(2)


df.head()


# Statistical analysis
total_accidents = df['Total_Accidents'].sum()
total_death = df['Total_Deaths'].sum()
total_injuries = df['Total_Injuries'].sum()
total_fatality_rate = (total_death / total_accedents *100).round(2)

print(f"Accident Statistic of 2019 :-")
print(f"Total Accident : {total_accidents}")
print(f"Total Death : {total_death}")
print(f"Total Injuries : {total_injuries}")
print(f"Fatality Ratio : {total_fatality_rate}")





top_10_states = df.nlargest(10 , 'Total_Accidents')

sns.barplot(data=top_10_states , x = 'State/UT' , y = 'Total_Accidents')
plt.xticks(rotation = 45 , ha = "right")
plt.xlabel("All States")
plt.ylabel("Total Number of Accidents")
plt.title("Top 10 States According to Accident count")
plt.show()


df.sort_values(by = 'Fatality_Rate' , ascending=False)












